{
 "cells": [
  {
   "cell_type": "markdown",
   "metadata": {},
   "source": [
    "# Annotation conversion from PASCAL to Yolo"
   ]
  },
  {
   "cell_type": "code",
   "execution_count": null,
   "metadata": {},
   "outputs": [
    {
     "data": {
      "text/plain": [
       "20"
      ]
     },
     "execution_count": 17,
     "metadata": {},
     "output_type": "execute_result"
    }
   ],
   "source": [
    "classes = [ \n",
    "    \"aeroplane\",\n",
    "    \"bicycle\",\n",
    "    \"bird\",\n",
    "    \"boat\",\n",
    "    \"bottle\",\n",
    "    \"bus\",\n",
    "    \"car\",\n",
    "    \"cat\",\n",
    "    \"chair\",\n",
    "    \"cow\",\n",
    "    \"diningtable\",\n",
    "    \"dog\",\n",
    "    \"horse\",\n",
    "    \"motorbike\",\n",
    "    \"person\",\n",
    "    \"pottedplant\",\n",
    "    \"sheep\",\n",
    "    \"sofa\",\n",
    "    \"train\",\n",
    "    \"tvmonitor\"\n",
    "  ]"
   ]
  },
  {
   "cell_type": "code",
   "execution_count": 5,
   "metadata": {},
   "outputs": [],
   "source": [
    "dirs = ['C:/D_Drive/Homework/ALDA/YOLO/Dataset/Annotations']"
   ]
  },
  {
   "cell_type": "code",
   "execution_count": 6,
   "metadata": {},
   "outputs": [],
   "source": [
    "def convert(size, box):\n",
    "    dw = 1./(size[0])\n",
    "    dh = 1./(size[1])\n",
    "    x = (box[0] + box[1])/2.0 - 1\n",
    "    y = (box[2] + box[3])/2.0 - 1\n",
    "    w = box[1] - box[0]\n",
    "    h = box[3] - box[2]\n",
    "    x = x*dw\n",
    "    w = w*dw\n",
    "    y = y*dh\n",
    "    h = h*dh\n",
    "    return (x, y, w, h)"
   ]
  },
  {
   "cell_type": "code",
   "execution_count": 16,
   "metadata": {},
   "outputs": [
    {
     "name": "stdout",
     "output_type": "stream",
     "text": [
      "Finished processing, annotations processed for 24640 objects\n"
     ]
    }
   ],
   "source": [
    "import os\n",
    "import xml.etree.ElementTree as ET\n",
    "from pathlib import Path\n",
    "import xmltodict\n",
    "\n",
    "count = 0\n",
    "def convert_annotation(file, output_path):\n",
    "    global count\n",
    "    filename = file.split('\\\\')[-1]\n",
    "    txt_data = []\n",
    "    with open(file, 'rb') as in_file:\n",
    "        xml_data = xmltodict.parse(in_file, xml_attribs=False)\n",
    "\n",
    "    size = xml_data['annotation']['size']\n",
    "    w = int(size['width'])\n",
    "    h = int(size['height'])\n",
    "\n",
    "    if isinstance(xml_data[\"annotation\"][\"object\"], list):\n",
    "        for obj in xml_data[\"annotation\"][\"object\"]:\n",
    "            difficult = obj['difficult']\n",
    "            cls = obj['name']\n",
    "            if cls not in classes or int(difficult) == 1:\n",
    "                continue\n",
    "\n",
    "            ## If you want the class name in txt file change the below statement\n",
    "            cls_id = classes.index(cls)             # cls_id = cls\n",
    "            xmlbox = obj['bndbox']\n",
    "            b = (float(xmlbox['xmin']), float(xmlbox['xmax']), float(xmlbox['ymin']),\n",
    "                 float(xmlbox['ymax']))\n",
    "            bb = convert((w, h), b)\n",
    "            txt_data.append(str(cls_id) + \" \" + \" \".join([str(a) for a in bb]) + '\\n')\n",
    "            count += 1\n",
    "    else:\n",
    "        obj = xml_data[\"annotation\"][\"object\"]\n",
    "        difficult = obj['difficult']\n",
    "        cls = obj['name']\n",
    "        if cls not in classes or int(difficult) == 1:\n",
    "            print('Class not found %s' % cls)\n",
    "\n",
    "        ## If you want the class name in txt file change the below statement\n",
    "        cls_id = classes.index(cls)             # cls_id = cls\n",
    "        xmlbox = obj['bndbox']\n",
    "        b = (float(xmlbox['xmin']), float(xmlbox['xmax']), float(xmlbox['ymin']),\n",
    "             float(xmlbox['ymax']))\n",
    "        bb = convert((w, h), b)\n",
    "        txt_data.append(str(cls_id) + \" \" + \" \".join([str(a) for a in bb]) + '\\n')\n",
    "        count += 1\n",
    "\n",
    "    with open(os.path.join(output_path, filename.rstrip('.xml') + '.txt'), 'w') as out_file:\n",
    "        out_file.write(\"\".join(txt_data))\n",
    "\n",
    "\n",
    "# File location of xmls and output files\n",
    "full_dir_path = Path(r'C:/D_Drive/Homework/ALDA/YOLO/Dataset/PASCAL_VOC/Annotations')\n",
    "output_path = Path(r'C:/D_Drive/Homework/ALDA/YOLO/Dataset/YOLO/Total_dataset/labels')\n",
    "\n",
    "# List the files in the directory\n",
    "list_dir = os.listdir(full_dir_path)\n",
    "\n",
    "if not os.path.exists(output_path):\n",
    "    os.makedirs(output_path)\n",
    "\n",
    "for file in list_dir:\n",
    "    convert_annotation(os.path.join(full_dir_path, file), output_path)\n",
    "\n",
    "print(f\"Finished processing, annotations processed for {count} objects\")"
   ]
  },
  {
   "cell_type": "code",
   "execution_count": null,
   "metadata": {},
   "outputs": [],
   "source": []
  }
 ],
 "metadata": {
  "kernelspec": {
   "display_name": "ALDA",
   "language": "python",
   "name": "python3"
  },
  "language_info": {
   "codemirror_mode": {
    "name": "ipython",
    "version": 3
   },
   "file_extension": ".py",
   "mimetype": "text/x-python",
   "name": "python",
   "nbconvert_exporter": "python",
   "pygments_lexer": "ipython3",
   "version": "3.12.7"
  }
 },
 "nbformat": 4,
 "nbformat_minor": 2
}
